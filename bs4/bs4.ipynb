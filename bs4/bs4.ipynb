{
 "cells": [
  {
   "cell_type": "markdown",
   "metadata": {},
   "source": [
    "# `bs4` usage"
   ]
  },
  {
   "cell_type": "code",
   "execution_count": 1,
   "metadata": {
    "collapsed": false
   },
   "outputs": [],
   "source": [
    "import requests\n",
    "from bs4 import BeautifulSoup\n",
    "with open('example.html') as f:\n",
    "    text = f.read()\n"
   ]
  },
  {
   "cell_type": "markdown",
   "metadata": {},
   "source": [
    "## Create soup"
   ]
  },
  {
   "cell_type": "code",
   "execution_count": 2,
   "metadata": {
    "collapsed": false
   },
   "outputs": [],
   "source": [
    "soup = BeautifulSoup(text, 'html.parser')"
   ]
  },
  {
   "cell_type": "markdown",
   "metadata": {},
   "source": [
    "## prettify"
   ]
  },
  {
   "cell_type": "code",
   "execution_count": 3,
   "metadata": {
    "collapsed": false
   },
   "outputs": [
    {
     "name": "stdout",
     "output_type": "stream",
     "text": [
      "<div id=\"gbar\">\n",
      " <nobr>\n",
      "  <b class=\"gb1\">\n",
      "   Search\n",
      "  </b>\n",
      "  <a class=\"gb1\" href=\"http://www.google.com/imghp?hl=en&amp;tab=wi\">\n",
      "   Images\n",
      "  </a>\n",
      "  <a class=\"gb1\" href=\"http://maps.google.com/maps?hl=en&amp;tab=wl\">\n",
      "   Maps\n",
      "  </a>\n",
      "  <a class=\"gb1\" href=\"https://www.google.com/intl/en/options/\" style=\"text-decoration:none\">\n",
      "   <u>\n",
      "    More\n",
      "   </u>\n",
      "   »\n",
      "  </a>\n",
      " </nobr>\n",
      "</div>\n",
      "<div id=\"guser\" width=\"100%\">\n",
      " <nobr>\n",
      "  <span class=\"gbf\" id=\"gbf\">\n",
      "  </span>\n",
      "  <span id=\"gbe\">\n",
      "  </span>\n",
      "  <a class=\"gb4\" href=\"http://www.google.com/history/optout?hl=en\">\n",
      "   Web History\n",
      "  </a>\n",
      "  |\n",
      " </nobr>\n",
      "</div>\n",
      "\n"
     ]
    }
   ],
   "source": [
    "print(soup.prettify())"
   ]
  },
  {
   "cell_type": "markdown",
   "metadata": {},
   "source": [
    "## Find a tag"
   ]
  },
  {
   "cell_type": "code",
   "execution_count": 4,
   "metadata": {
    "collapsed": false
   },
   "outputs": [
    {
     "data": {
      "text/plain": [
       "[<a class=\"gb1\" href=\"http://www.google.com/imghp?hl=en&amp;tab=wi\">\n",
       "       Images\n",
       "     </a>, <a class=\"gb1\" href=\"http://maps.google.com/maps?hl=en&amp;tab=wl\">\n",
       "       Maps\n",
       "     </a>, <a class=\"gb1\" href=\"https://www.google.com/intl/en/options/\" style=\"text-decoration:none\">\n",
       " <u>\n",
       "         More\n",
       "       </u>\n",
       "       »\n",
       "     </a>, <a class=\"gb4\" href=\"http://www.google.com/history/optout?hl=en\">\n",
       "       Web History\n",
       "     </a>]"
      ]
     },
     "execution_count": 4,
     "metadata": {},
     "output_type": "execute_result"
    }
   ],
   "source": [
    "soup.find_all('a')"
   ]
  },
  {
   "cell_type": "markdown",
   "metadata": {},
   "source": [
    "## Find a tag with attributes\n"
   ]
  },
  {
   "cell_type": "code",
   "execution_count": 5,
   "metadata": {
    "collapsed": false
   },
   "outputs": [
    {
     "data": {
      "text/plain": [
       "[<b class=\"gb1\">\n",
       "       Search\n",
       "     </b>]"
      ]
     },
     "execution_count": 5,
     "metadata": {},
     "output_type": "execute_result"
    }
   ],
   "source": [
    "soup.find_all(\"b\" ,{\"class\": \"gb1\"})"
   ]
  },
  {
   "cell_type": "markdown",
   "metadata": {},
   "source": [
    "## Find the first appearance of a tag with attributes"
   ]
  },
  {
   "cell_type": "code",
   "execution_count": 6,
   "metadata": {
    "collapsed": false
   },
   "outputs": [
    {
     "data": {
      "text/plain": [
       "<a class=\"gb1\" href=\"http://www.google.com/imghp?hl=en&amp;tab=wi\">\n",
       "      Images\n",
       "    </a>"
      ]
     },
     "execution_count": 6,
     "metadata": {},
     "output_type": "execute_result"
    }
   ],
   "source": [
    "soup.find('a', {\"class\" : \"gb1\"})"
   ]
  },
  {
   "cell_type": "code",
   "execution_count": null,
   "metadata": {
    "collapsed": true
   },
   "outputs": [],
   "source": []
  },
  {
   "cell_type": "markdown",
   "metadata": {},
   "source": [
    "## Access the tags"
   ]
  },
  {
   "cell_type": "code",
   "execution_count": 7,
   "metadata": {
    "collapsed": false
   },
   "outputs": [
    {
     "data": {
      "text/plain": [
       "<b class=\"gb1\">\n",
       "      Search\n",
       "    </b>"
      ]
     },
     "execution_count": 7,
     "metadata": {},
     "output_type": "execute_result"
    }
   ],
   "source": [
    "soup.div.nobr.b"
   ]
  },
  {
   "cell_type": "markdown",
   "metadata": {},
   "source": [
    "## Access the attributes of tags"
   ]
  },
  {
   "cell_type": "code",
   "execution_count": 8,
   "metadata": {
    "collapsed": false
   },
   "outputs": [
    {
     "data": {
      "text/plain": [
       "['gb1']"
      ]
     },
     "execution_count": 8,
     "metadata": {},
     "output_type": "execute_result"
    }
   ],
   "source": [
    "soup.div.nobr.b['class']"
   ]
  },
  {
   "cell_type": "markdown",
   "metadata": {},
   "source": [
    "## Convert the tags to string"
   ]
  },
  {
   "cell_type": "code",
   "execution_count": 9,
   "metadata": {
    "collapsed": false
   },
   "outputs": [
    {
     "name": "stdout",
     "output_type": "stream",
     "text": [
      "\n",
      "      Search\n",
      "    \n"
     ]
    }
   ],
   "source": [
    "print(soup.div.nobr.b.text)"
   ]
  },
  {
   "cell_type": "code",
   "execution_count": 10,
   "metadata": {
    "collapsed": false,
    "deletable": true,
    "editable": true
   },
   "outputs": [
    {
     "name": "stdout",
     "output_type": "stream",
     "text": [
      "\n",
      "      Search\n",
      "    \n"
     ]
    }
   ],
   "source": [
    "print(soup.div.nobr.b.string)"
   ]
  },
  {
   "cell_type": "code",
   "execution_count": 11,
   "metadata": {
    "collapsed": false,
    "deletable": true,
    "editable": true
   },
   "outputs": [
    {
     "name": "stdout",
     "output_type": "stream",
     "text": [
      "\n",
      "\n",
      "      Search\n",
      "    \n",
      "\n",
      "      Images\n",
      "    \n",
      "\n",
      "      Maps\n",
      "    \n",
      "\n",
      "\n",
      "        More\n",
      "      \n",
      "      »\n",
      "    \n",
      "\n"
     ]
    }
   ],
   "source": [
    "print(soup.div.nobr.text)"
   ]
  },
  {
   "cell_type": "code",
   "execution_count": 12,
   "metadata": {
    "collapsed": false
   },
   "outputs": [
    {
     "name": "stdout",
     "output_type": "stream",
     "text": [
      "None\n"
     ]
    }
   ],
   "source": [
    "print(soup.div.nobr.string)"
   ]
  },
  {
   "cell_type": "code",
   "execution_count": 13,
   "metadata": {
    "collapsed": false
   },
   "outputs": [
    {
     "name": "stdout",
     "output_type": "stream",
     "text": [
      "['\\n', <b class=\"gb1\">\n",
      "      Search\n",
      "    </b>, '\\n', <a class=\"gb1\" href=\"http://www.google.com/imghp?hl=en&amp;tab=wi\">\n",
      "      Images\n",
      "    </a>, '\\n', <a class=\"gb1\" href=\"http://maps.google.com/maps?hl=en&amp;tab=wl\">\n",
      "      Maps\n",
      "    </a>, '\\n', <a class=\"gb1\" href=\"https://www.google.com/intl/en/options/\" style=\"text-decoration:none\">\n",
      "<u>\n",
      "        More\n",
      "      </u>\n",
      "      »\n",
      "    </a>, '\\n']\n"
     ]
    }
   ],
   "source": [
    "print(soup.div.nobr.contents)"
   ]
  },
  {
   "cell_type": "code",
   "execution_count": null,
   "metadata": {
    "collapsed": true,
    "deletable": true,
    "editable": true
   },
   "outputs": [],
   "source": []
  },
  {
   "cell_type": "code",
   "execution_count": null,
   "metadata": {
    "collapsed": true,
    "deletable": true,
    "editable": true
   },
   "outputs": [],
   "source": []
  }
 ],
 "metadata": {
  "kernelspec": {
   "display_name": "Python 3",
   "language": "python",
   "name": "python3"
  },
  "language_info": {
   "codemirror_mode": {
    "name": "ipython",
    "version": 3
   },
   "file_extension": ".py",
   "mimetype": "text/x-python",
   "name": "python",
   "nbconvert_exporter": "python",
   "pygments_lexer": "ipython3",
   "version": "3.6.1"
  }
 },
 "nbformat": 4,
 "nbformat_minor": 2
}
