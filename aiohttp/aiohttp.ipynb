{
 "cells": [
  {
   "cell_type": "markdown",
   "metadata": {},
   "source": [
    "# aiohttp: Async HTTP Clients and Severs"
   ]
  },
  {
   "cell_type": "code",
   "execution_count": 1,
   "metadata": {
    "collapsed": true
   },
   "outputs": [],
   "source": [
    "import aiohttp\n",
    "import asyncio\n",
    "import async_timeout"
   ]
  },
  {
   "cell_type": "code",
   "execution_count": 11,
   "metadata": {
    "collapsed": false
   },
   "outputs": [
    {
     "name": "stdout",
     "output_type": "stream",
     "text": [
      "200\n",
      "{\"id\":\"56\n"
     ]
    }
   ],
   "source": [
    "async def fetch():        \n",
    "    async with aiohttp.ClientSession() as session:\n",
    "        async with session.get('https://api.github.com/events') as resp:\n",
    "            print(resp.status)\n",
    "            print((await resp.text())[1:10])        \n",
    "        \n",
    "loop = asyncio.get_event_loop()\n",
    "loop.run_until_complete(fetch())"
   ]
  },
  {
   "cell_type": "markdown",
   "metadata": {},
   "source": [
    "### HTTP methods"
   ]
  },
  {
   "cell_type": "code",
   "execution_count": 17,
   "metadata": {
    "collapsed": false,
    "deletable": true,
    "editable": true
   },
   "outputs": [
    {
     "name": "stdout",
     "output_type": "stream",
     "text": [
      "200 Get {\"id\":\"5681191441\",\"type\":\"Is\n",
      "200 Put \n",
      "  \"args\": {}, \n",
      "  \"data\": \"da\n",
      "200 Delete \n",
      "  \"args\": {}, \n",
      "  \"data\": \"\",\n",
      "200 Head \n",
      "200 Options \n",
      "200 Patch \n",
      "  \"args\": {}, \n",
      "  \"data\": \"da\n"
     ]
    }
   ],
   "source": [
    "async def fetch():        \n",
    "    async with aiohttp.ClientSession() as session:\n",
    "        async with session.get('https://api.github.com/events') as resp:\n",
    "            print(resp.status, \"Get\", (await resp.text())[1:30])        \n",
    "        async with session.put('http://httpbin.org/put', data=b'data') as resp:\n",
    "            print(resp.status, \"Put\", (await resp.text())[1:30])        \n",
    "        async with session.delete('http://httpbin.org/delete') as resp:\n",
    "            print(resp.status, \"Delete\", (await resp.text())[1:30])        \n",
    "        async with session.head('http://httpbin.org/get') as resp:\n",
    "            print(resp.status, \"Head\", (await resp.text())[1:30])        \n",
    "        async with session.options('http://httpbin.org/get') as resp:\n",
    "            print(resp.status, \"Options\", (await resp.text())[1:30])        \n",
    "        async with session.patch('http://httpbin.org/patch', data=b'data') as resp:\n",
    "            print(resp.status, \"Patch\", (await resp.text())[1:30])        \n",
    "        \n",
    "loop = asyncio.get_event_loop()\n",
    "loop.run_until_complete(fetch())"
   ]
  },
  {
   "cell_type": "markdown",
   "metadata": {},
   "source": [
    "## HTTP mathods with parameters"
   ]
  },
  {
   "cell_type": "code",
   "execution_count": 20,
   "metadata": {
    "collapsed": false,
    "deletable": true,
    "editable": true
   },
   "outputs": [
    {
     "name": "stdout",
     "output_type": "stream",
     "text": [
      "http://httpbin.org/get?key1=value1&key2=value2\n",
      "200 \n",
      "  \"args\": {\n",
      "    \"key1\": \"val\n"
     ]
    }
   ],
   "source": [
    "async def fetch():        \n",
    "    params = {'key1': 'value1', 'key2': 'value2'}\n",
    "    async with aiohttp.ClientSession() as session:\n",
    "        async with session.get('http://httpbin.org/get',\n",
    "                               params=params) as resp:\n",
    "            print(resp.url)\n",
    "            print(resp.status, (await resp.text())[1:30])        \n",
    "        \n",
    "loop = asyncio.get_event_loop()\n",
    "loop.run_until_complete(fetch())"
   ]
  },
  {
   "cell_type": "markdown",
   "metadata": {
    "deletable": true,
    "editable": true
   },
   "source": [
    "## Response contents"
   ]
  },
  {
   "cell_type": "code",
   "execution_count": 24,
   "metadata": {
    "collapsed": false,
    "deletable": true,
    "editable": true
   },
   "outputs": [
    {
     "name": "stdout",
     "output_type": "stream",
     "text": [
      "[{\"id\":\"5681209819\",\"type\":\"CreateEvent\",\"actor\":{\"id\":10837102,\"login\":\"nnjesse\",\"display_login\":\"n\n"
     ]
    }
   ],
   "source": [
    "async def fetch():        \n",
    "    async with aiohttp.ClientSession() as session:\n",
    "        async with session.get('https://api.github.com/events') as resp:\n",
    "            print((await resp.text())[0:100])\n",
    "        \n",
    "loop = asyncio.get_event_loop()\n",
    "loop.run_until_complete(fetch())"
   ]
  },
  {
   "cell_type": "markdown",
   "metadata": {
    "deletable": true,
    "editable": true
   },
   "source": [
    "## JSON Response contents"
   ]
  },
  {
   "cell_type": "code",
   "execution_count": 27,
   "metadata": {
    "collapsed": false,
    "deletable": true,
    "editable": true
   },
   "outputs": [
    {
     "name": "stdout",
     "output_type": "stream",
     "text": [
      "5681213684\n"
     ]
    }
   ],
   "source": [
    "async def fetch():        \n",
    "    async with aiohttp.ClientSession() as session:\n",
    "        async with session.get('https://api.github.com/events') as resp:\n",
    "            print((await resp.json())[0]['id'])\n",
    "        \n",
    "loop = asyncio.get_event_loop()\n",
    "loop.run_until_complete(fetch())"
   ]
  },
  {
   "cell_type": "markdown",
   "metadata": {
    "deletable": true,
    "editable": true
   },
   "source": [
    "## Custom headers"
   ]
  },
  {
   "cell_type": "code",
   "execution_count": 28,
   "metadata": {
    "collapsed": false,
    "deletable": true,
    "editable": true
   },
   "outputs": [
    {
     "name": "stdout",
     "output_type": "stream",
     "text": [
      "<ClientResponse(https://api.github.com/some/endpoint) [404 Not Found]>\n",
      "<CIMultiDictProxy('Server': 'GitHub.com', 'Date': 'Thu, 13 Apr 2017 05:21:22 GMT', 'Content-Type': 'application/json; charset=utf-8', 'Transfer-Encoding': 'chunked', 'Status': '404 Not Found', 'X-Ratelimit-Limit': '60', 'X-Ratelimit-Remaining': '53', 'X-Ratelimit-Reset': '1492064256', 'X-Github-Media-Type': 'github.v3; format=json', 'Access-Control-Expose-Headers': 'ETag, Link, X-GitHub-OTP, X-RateLimit-Limit, X-RateLimit-Remaining, X-RateLimit-Reset, X-OAuth-Scopes, X-Accepted-OAuth-Scopes, X-Poll-Interval', 'Access-Control-Allow-Origin': '*', 'Content-Security-Policy': \"default-src 'none'\", 'Strict-Transport-Security': 'max-age=31536000; includeSubdomains; preload', 'X-Content-Type-Options': 'nosniff', 'X-Frame-Options': 'deny', 'X-Xss-Protection': '1; mode=block', 'Content-Encoding': 'gzip', 'X-Github-Request-Id': 'F59F:2945C:13EFDF8:19B7095:58EF0AD2')>\n",
      "\n"
     ]
    }
   ],
   "source": [
    "import json\n",
    "url = 'https://api.github.com/some/endpoint'\n",
    "payload = {'some': 'data'}\n",
    "headers = {'content-type': 'application/json'}\n",
    "async def fetch():        \n",
    "    async with aiohttp.ClientSession() as session: \n",
    "        print(await session.post(url,\n",
    "                           data=json.dumps(payload),\n",
    "                           headers=headers))\n",
    "        \n",
    "loop = asyncio.get_event_loop()\n",
    "loop.run_until_complete(fetch())"
   ]
  },
  {
   "cell_type": "markdown",
   "metadata": {
    "deletable": true,
    "editable": true
   },
   "source": [
    "## Proxy Usage "
   ]
  },
  {
   "cell_type": "code",
   "execution_count": 28,
   "metadata": {
    "collapsed": false,
    "deletable": true,
    "editable": true
   },
   "outputs": [
    {
     "name": "stdout",
     "output_type": "stream",
     "text": [
      "<ClientResponse(https://api.github.com/some/endpoint) [404 Not Found]>\n",
      "<CIMultiDictProxy('Server': 'GitHub.com', 'Date': 'Thu, 13 Apr 2017 05:21:22 GMT', 'Content-Type': 'application/json; charset=utf-8', 'Transfer-Encoding': 'chunked', 'Status': '404 Not Found', 'X-Ratelimit-Limit': '60', 'X-Ratelimit-Remaining': '53', 'X-Ratelimit-Reset': '1492064256', 'X-Github-Media-Type': 'github.v3; format=json', 'Access-Control-Expose-Headers': 'ETag, Link, X-GitHub-OTP, X-RateLimit-Limit, X-RateLimit-Remaining, X-RateLimit-Reset, X-OAuth-Scopes, X-Accepted-OAuth-Scopes, X-Poll-Interval', 'Access-Control-Allow-Origin': '*', 'Content-Security-Policy': \"default-src 'none'\", 'Strict-Transport-Security': 'max-age=31536000; includeSubdomains; preload', 'X-Content-Type-Options': 'nosniff', 'X-Frame-Options': 'deny', 'X-Xss-Protection': '1; mode=block', 'Content-Encoding': 'gzip', 'X-Github-Request-Id': 'F59F:2945C:13EFDF8:19B7095:58EF0AD2')>\n",
      "\n"
     ]
    }
   ],
   "source": [
    "import json\n",
    "async def fetch():        \n",
    "    async with aiohttp.ClientSession() as session:\n",
    "    async with session.get(\"http://python.org\",\n",
    "                           proxy=\"http://some.proxy.com\") as resp:\n",
    "        print(resp.status)\n",
    "    async with aiohttp.ClientSession() as session: \n",
    "        print(await session.post(url,\n",
    "                           data=json.dumps(payload),\n",
    "                           headers=headers))\n",
    "        \n",
    "loop = asyncio.get_event_loop()\n",
    "loop.run_until_complete(fetch())"
   ]
  }
 ],
 "metadata": {
  "kernelspec": {
   "display_name": "Python 3",
   "language": "python",
   "name": "python3"
  },
  "language_info": {
   "codemirror_mode": {
    "name": "ipython",
    "version": 3
   },
   "file_extension": ".py",
   "mimetype": "text/x-python",
   "name": "python",
   "nbconvert_exporter": "python",
   "pygments_lexer": "ipython3",
   "version": "3.6.1"
  }
 },
 "nbformat": 4,
 "nbformat_minor": 2
}
