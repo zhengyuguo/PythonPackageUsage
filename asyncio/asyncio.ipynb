{
 "cells": [
  {
   "cell_type": "markdown",
   "metadata": {
    "deletable": true,
    "editable": true
   },
   "source": [
    "## Hello World"
   ]
  },
  {
   "cell_type": "code",
   "execution_count": 1,
   "metadata": {
    "collapsed": false,
    "deletable": true,
    "editable": true
   },
   "outputs": [
    {
     "name": "stdout",
     "output_type": "stream",
     "text": [
      "hello World\n"
     ]
    }
   ],
   "source": [
    "import asyncio\n",
    "import random\n",
    "\n",
    "async def say(what, when):\n",
    "    await asyncio.sleep(when)\n",
    "    print(what)\n",
    "    \n",
    "loop = asyncio.get_event_loop()    \n",
    "loop.run_until_complete(say(\"hello World\", 1))"
   ]
  },
  {
   "cell_type": "markdown",
   "metadata": {
    "deletable": true,
    "editable": true
   },
   "source": [
    "## Create tasks"
   ]
  },
  {
   "cell_type": "markdown",
   "metadata": {
    "deletable": true,
    "editable": true
   },
   "source": [
    "- `ensure_future` is method to create `Task` from coroutine. It creates task different ways based on argument (including using of `create_task` for coroutines and future-like objects).\n",
    "\n",
    "- `create_task` is abstract method of `AbstractEventLoop`. Different event loops can implement this function different ways.\n",
    "\n",
    "- You should use `ensure_future` to create tasks. You'll need `create_task` only if you're going to implement your own event loop type."
   ]
  },
  {
   "cell_type": "code",
   "execution_count": 2,
   "metadata": {
    "collapsed": false,
    "deletable": true,
    "editable": true
   },
   "outputs": [
    {
     "name": "stdout",
     "output_type": "stream",
     "text": [
      "second hello\n",
      "first hello\n"
     ]
    }
   ],
   "source": [
    "async def main(loop):\n",
    "    task1 = asyncio.ensure_future(say('first hello', 3))\n",
    "    task2 = asyncio.ensure_future(say('second hello', 2))\n",
    "    await task1, task2\n",
    "    \n",
    "loop.run_until_complete(main(loop))"
   ]
  },
  {
   "cell_type": "code",
   "execution_count": 3,
   "metadata": {
    "collapsed": false,
    "deletable": true,
    "editable": true
   },
   "outputs": [
    {
     "name": "stdout",
     "output_type": "stream",
     "text": [
      "second hello\n",
      "first hello\n",
      "loop.stop()\n"
     ]
    }
   ],
   "source": [
    "async def stop(loop, when):\n",
    "    await asyncio.sleep(when)\n",
    "    print('loop.stop()')\n",
    "    loop.stop()\n",
    "    \n",
    "loop.create_task(say('first hello', 2))\n",
    "loop.create_task(say('second hello', 1))\n",
    "loop.create_task(stop(loop, 5))\n",
    "loop.run_forever()"
   ]
  },
  {
   "cell_type": "markdown",
   "metadata": {
    "collapsed": true,
    "deletable": true,
    "editable": true
   },
   "source": [
    "## asyncio Producer Consumer model"
   ]
  },
  {
   "cell_type": "code",
   "execution_count": 4,
   "metadata": {
    "collapsed": false,
    "deletable": true,
    "editable": true
   },
   "outputs": [
    {
     "name": "stdout",
     "output_type": "stream",
     "text": [
      "producing 1/4:2\n",
      "producing 1/4:1\n",
      "producing 2/4:1\n",
      "consuming item 1/2...\n",
      "producing 3/4:1\n",
      "consuming item 2/1...\n",
      "producing 2/4:2\n",
      "consuming item 1/2...\n",
      "producing 3/4:2\n",
      "consuming item 2/2...\n",
      "producing 4/4:1\n",
      "consuming item 3/1...\n",
      "consuming item 4/2...\n",
      "producing 4/4:2\n",
      "consuming item 3/2...\n",
      "consuming item 4/2...\n"
     ]
    },
    {
     "data": {
      "text/plain": [
       "[None, None, None, None]"
      ]
     },
     "execution_count": 4,
     "metadata": {},
     "output_type": "execute_result"
    }
   ],
   "source": [
    "async def produce(queue, n, num):\n",
    "    for x in range(1, n + 1):\n",
    "        print('producing {}/{}:{}'.format(x, n, num))\n",
    "        await asyncio.sleep(random.random())\n",
    "        await queue.put(str(x))\n",
    "\n",
    "    await queue.put(None)\n",
    "\n",
    "\n",
    "async def consume(queue, num):\n",
    "    while True:\n",
    "        item = await queue.get()\n",
    "        if item is None:\n",
    "            break\n",
    "        print('consuming item {}/{}...'.format(item, num))\n",
    "        await asyncio.sleep(random.random())\n",
    "\n",
    "\n",
    "loop = asyncio.get_event_loop()\n",
    "queue = asyncio.Queue(loop=loop)\n",
    "producer_coro1 = produce(queue, 4, 1)\n",
    "producer_coro2 = produce(queue, 4, 2)\n",
    "consumer_coro1 = consume(queue, 1)\n",
    "consumer_coro2 = consume(queue, 2)\n",
    "loop.run_until_complete(asyncio.gather(producer_coro1, consumer_coro1, producer_coro2, consumer_coro2))"
   ]
  },
  {
   "cell_type": "markdown",
   "metadata": {
    "deletable": true,
    "editable": true
   },
   "source": [
    "## `gather`"
   ]
  },
  {
   "cell_type": "code",
   "execution_count": 5,
   "metadata": {
    "collapsed": false,
    "deletable": true,
    "editable": true
   },
   "outputs": [
    {
     "name": "stdout",
     "output_type": "stream",
     "text": [
      "4\n",
      "7\n",
      "6\n",
      "8\n",
      "2\n",
      "9\n",
      "1\n",
      "3\n",
      "5\n",
      "0\n"
     ]
    }
   ],
   "source": [
    "async def fun1():\n",
    "    tasks = [asyncio.ensure_future(fun2(i)) for i in range(10)]\n",
    "    await asyncio.gather(*tasks)\n",
    "    \n",
    "async def fun2(i):\n",
    "    await asyncio.sleep(random.random())\n",
    "    print(i)\n",
    "    \n",
    "\n",
    "loop = asyncio.get_event_loop()\n",
    "queue = asyncio.Queue(loop=loop)\n",
    "loop.run_until_complete(fun1())"
   ]
  },
  {
   "cell_type": "code",
   "execution_count": null,
   "metadata": {
    "collapsed": true,
    "deletable": true,
    "editable": true
   },
   "outputs": [],
   "source": []
  },
  {
   "cell_type": "code",
   "execution_count": 9,
   "metadata": {
    "collapsed": false,
    "deletable": true,
    "editable": true
   },
   "outputs": [
    {
     "name": "stdout",
     "output_type": "stream",
     "text": [
      "0\n",
      "1\n",
      "3\n",
      "4\n",
      "2\n",
      "aaa1\n",
      "aaa2\n",
      "message\n",
      "0\n",
      "1\n",
      "2\n",
      "3\n",
      "4\n"
     ]
    }
   ],
   "source": [
    "async def foo(i):\n",
    "    print(i)\n",
    "    await asyncio.sleep(random.random())\n",
    "    print(i)\n",
    "    \n",
    "def msg(i):\n",
    "    print('aaa' + str(i))\n",
    "\n",
    "def stop(loop):\n",
    "    print(\"message\")\n",
    "    loop.stop()\n",
    "    \n",
    "loop = asyncio.get_event_loop()\n",
    "\n",
    "loop.call_soon(msg, 1)\n",
    "loop.call_soon(msg, 2)\n",
    "loop.call_soon(stop, loop)\n",
    "\n",
    "for i in range(5):\n",
    "    asyncio.ensure_future(foo(i))\n",
    "    \n",
    "loop.run_forever()"
   ]
  }
 ],
 "metadata": {
  "kernelspec": {
   "display_name": "Python 3",
   "language": "python",
   "name": "python3"
  },
  "language_info": {
   "codemirror_mode": {
    "name": "ipython",
    "version": 3
   },
   "file_extension": ".py",
   "mimetype": "text/x-python",
   "name": "python",
   "nbconvert_exporter": "python",
   "pygments_lexer": "ipython3",
   "version": "3.6.1"
  }
 },
 "nbformat": 4,
 "nbformat_minor": 2
}
